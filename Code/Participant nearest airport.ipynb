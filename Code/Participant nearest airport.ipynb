{
 "cells": [
  {
   "cell_type": "code",
   "execution_count": null,
   "metadata": {},
   "outputs": [],
   "source": [
    "import numpy as np\n",
    "import pandas as pd\n",
    "import math\n",
    "from math import sin, cos, sqrt, atan2, radians\n",
    "import googlemaps\n",
    "from datetime import datetime\n",
    "gmaps = googlemaps.Client(key = 'Your_API_key')"
   ]
  },
  {
   "cell_type": "code",
   "execution_count": null,
   "metadata": {},
   "outputs": [],
   "source": [
    "# import geocoordinates for participants and airports\n",
    "df = pd.read_csv('Geocoordinate.csv')\n",
    "df_airport = pd.read_csv('World60_US60_airport.csv')\n",
    "print(df.head())\n",
    "print(df_airport.head())"
   ]
  },
  {
   "cell_type": "code",
   "execution_count": null,
   "metadata": {},
   "outputs": [],
   "source": [
    "# Define a function for calculating the great-circle distance based on geocoordinates\n",
    "def H_dist(origin_lat,origin_lon,dest_lat,dest_lon):\n",
    "    R = 6378.137\n",
    "    flattening = 1/298.257223563\n",
    "    lat1 = atan2((1-flattening)*sin(origin_lat*math.pi/180), cos(origin_lat*math.pi/180))\n",
    "    lon1 = origin_lon*math.pi/180\n",
    "    lat2 = atan2((1-flattening)*sin(dest_lat*math.pi/180), cos(dest_lat*math.pi/180))\n",
    "    lon2 = dest_lon*math.pi/180\n",
    "    dlon = lon2 - lon1\n",
    "    dlat = lat2 - lat1\n",
    "    a = sin(dlat / 2)**2 + cos(lat1) * cos(lat2) * sin(dlon / 2)**2\n",
    "    c = 2 * atan2(sqrt(a), sqrt(1 - a))\n",
    "    distance = R * c\n",
    "    return distance\n",
    "\n",
    "# Define a function for finding the nearest airports to participants\n",
    "def nearest_airport(origin_lat, origin_lon):\n",
    "    airport_dist = []\n",
    "    for i in range(df_airport.shape[0]):\n",
    "        airport_dist.append(H_dist(origin_lat, origin_lon, df_airport.iloc[i,3], df_airport.iloc[i,4]))\n",
    "    min_dist = min(airport_dist)\n",
    "    min_index = airport_dist.index(min(airport_dist))\n",
    "    del airport_dist\n",
    "    return min_dist, min_index\n",
    "\n",
    "# Define a function to execute the nearest_airport function in batch\n",
    "def nearest_airport_batch(row):\n",
    "    origin_lat = row['Source_lat']\n",
    "    origin_lon = row['Source_long']\n",
    "    min_dist,min_index = nearest_airport(origin_lat, origin_lon)\n",
    "    return min_dist, min_index\n",
    "\n",
    "# Create a list for the nearest airport index and distance\n",
    "nearest_airport_list = df.apply(nearest_airport_batch, axis=1)    "
   ]
  },
  {
   "cell_type": "code",
   "execution_count": null,
   "metadata": {},
   "outputs": [],
   "source": [
    "# combine the nearest airports, their location, and their geocoordinates into df\n",
    "nearest_airport_df = np.stack([nearest_airport_list[nearest_airport_list.index[i]] for i in range(df_airport.shape[0])], axis=0)\n",
    "nearest_airport_dist = nearest_airport_df[:,0].flatten()\n",
    "nearest_airport_index = nearest_airport_df[:,1].flatten()\n",
    "df = pd.concat([df.reset_index(),df_airport.iloc[nearest_airport_index, 0:].reset_index()],axis=1)\n",
    "df = df.iloc[:,[1,2,3,4,6,7,8,9,10]]\n",
    "df = df.rename({'Rank': 'Dest_Airport_Rank', 'Country': 'Dest_Country', 'Airport': 'Dest_Airport', \n",
    "                'lat': 'Dest_lat', 'long': 'Dest_long'}, axis='columns')"
   ]
  },
  {
   "cell_type": "code",
   "execution_count": null,
   "metadata": {},
   "outputs": [],
   "source": [
    "# Define time for the depature time\n",
    "dt = datetime.strptime('7 Jul 2021', '%d %b %Y')\n",
    "newdatetime = dt.replace(hour=9, minute=0)\n",
    "print(newdatetime)\n",
    "\n",
    "mode = []\n",
    "# Computation of travel distances between the participant's locations and their nearest airport\n",
    "def calculate_dist(row):\n",
    "    try:\n",
    "        # For european countries, calculate both rail and car transportation distances\n",
    "        origins = (row['Source_lat'], row['Source_long'])\n",
    "        destinations = (row['Dest_lat'], row['Dest_long']) \n",
    "        # distance for rail transport in Europe\n",
    "        if(row['Source_Country'] in ['BE','CH','DE','ES','RER / FR','GB','IT','NL','SE']):\n",
    "            matrix1 = gmaps.distance_matrix(origins, destinations, mode = 'transit', transit_mode = 'rail', departure_time = newdatetime)\n",
    "            matrixdf1 = pd.json_normalize(matrix1, ['rows','elements'])\n",
    "            # distance for car transportation in Europe\n",
    "            matrix2 = gmaps.distance_matrix(origins, destinations, mode = 'driving')\n",
    "            matrixdf2 = pd.json_normalize(matrix2, ['rows','elements'])\n",
    "            # Exception: if rail transport distance > 600 km and car transportation distance < 500 km, then choose driving instead of rail, else if rail transport distance < 600 km, choose rail.\n",
    "            if((matrixdf1['distance.value'].values[0]>600000) & (matrixdf2['distance.value'].values[0]<=500000)):\n",
    "                print(matrixdf1['distance.value'].values[0],'use driving instead of rail',matrixdf2['distance.value'].values[0])\n",
    "                mode.append('drive')\n",
    "                return matrixdf2['distance.value'].values[0]\n",
    "            else:\n",
    "                print(matrixdf1['distance.value'].values[0])\n",
    "                mode.append('rail')\n",
    "                return matrixdf1['distance.value'].values[0]\n",
    "        # For regions outside the Europe, calculate car transportation distances only  \n",
    "        else:\n",
    "            matrix = gmaps.distance_matrix(origins, destinations, mode = 'driving')\n",
    "            matrixdf = pd.json_normalize(matrix, ['rows','elements'])\n",
    "            print(matrixdf['distance.value'].values[0])\n",
    "            mode.append('drive')\n",
    "            return matrixdf['distance.value'].values[0]\n",
    "    except IndexError:\n",
    "        print(\"Index was wrong...\")\n",
    "    except ValueError:\n",
    "        print(\"Unexpected value...\")\n",
    "    except:\n",
    "        print(\"zero results\")\n",
    "        mode.append('NaN')"
   ]
  },
  {
   "cell_type": "code",
   "execution_count": null,
   "metadata": {},
   "outputs": [],
   "source": [
    "dist = df.apply(calculate_dist, axis = 1)\n",
    "df['Ground_dist'] = dist/1000\n",
    "df['Mode'] = mode\n",
    "df.to_csv(r'Participant_nearest_airport.csv')"
   ]
  }
 ],
 "metadata": {
  "kernelspec": {
   "display_name": "Python 3",
   "language": "python",
   "name": "python3"
  },
  "language_info": {
   "codemirror_mode": {
    "name": "ipython",
    "version": 3
   },
   "file_extension": ".py",
   "mimetype": "text/x-python",
   "name": "python",
   "nbconvert_exporter": "python",
   "pygments_lexer": "ipython3",
   "version": "3.7.3"
  }
 },
 "nbformat": 4,
 "nbformat_minor": 4
}
